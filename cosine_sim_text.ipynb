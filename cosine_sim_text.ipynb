{
  "nbformat": 4,
  "nbformat_minor": 0,
  "metadata": {
    "colab": {
      "name": "cosine_sim_text.ipynb",
      "provenance": [],
      "collapsed_sections": [],
      "mount_file_id": "1So772r0WWUZ9xyXnQZURM6nLMpjJF5Tq",
      "authorship_tag": "ABX9TyOQ4GsFYlVLdk8aaUUX4akh",
      "include_colab_link": true
    },
    "kernelspec": {
      "name": "python3",
      "display_name": "Python 3"
    },
    "language_info": {
      "name": "python"
    }
  },
  "cells": [
    {
      "cell_type": "markdown",
      "metadata": {
        "id": "view-in-github",
        "colab_type": "text"
      },
      "source": [
        "<a href=\"https://colab.research.google.com/github/pranathiiyer/multi-modal-deep-learning-model/blob/main/cosine_sim_text.ipynb\" target=\"_parent\"><img src=\"https://colab.research.google.com/assets/colab-badge.svg\" alt=\"Open In Colab\"/></a>"
      ]
    },
    {
      "cell_type": "code",
      "execution_count": 1,
      "metadata": {
        "id": "QU9X8dMNazz-"
      },
      "outputs": [],
      "source": [
        "\n",
        "import pandas as pd\n",
        "import gspread as gs"
      ]
    },
    {
      "cell_type": "code",
      "source": [
        "df = pd.read_excel('/content/drive/MyDrive/meme_df/meme-generator-dataset/manual description/Text_comparison.xlsx')"
      ],
      "metadata": {
        "id": "8zd9WutKbfF9"
      },
      "execution_count": 2,
      "outputs": []
    },
    {
      "cell_type": "code",
      "source": [
        "df"
      ],
      "metadata": {
        "colab": {
          "base_uri": "https://localhost:8080/",
          "height": 424
        },
        "id": "XMKwjSRHdAuR",
        "outputId": "0c6a27bb-fa37-46d4-9293-4aa818aa2cfb"
      },
      "execution_count": 3,
      "outputs": [
        {
          "output_type": "execute_result",
          "data": {
            "text/plain": [
              "                                              Meme Text  \\\n",
              "0     logging on to discover the guildie who borrowe...   \n",
              "1                                           - Wipe Once   \n",
              "2            Cousins girlfriend takes front Seat блеать   \n",
              "3                                  its real life Please   \n",
              "4                        two tears i can't deal wiff it   \n",
              "...                                                 ...   \n",
              "1209          KIdnaps People from africa TOO MAINSTREAM   \n",
              "1210  проёбываю жизнь днём false. The fastest way to...   \n",
              "1211                       gracias a mauri i am the 99%   \n",
              "1212  con el arbitraje de puga because it aligns wit...   \n",
              "1213  Jugos EL SV DE TF2 ESTA LLENO?CREARE MI PROPIO...   \n",
              "\n",
              "                                     Manual Description  \n",
              "0                    a baby in blue top crying in tears  \n",
              "1                    a baby in blue top crying in tears  \n",
              "2                    a baby in blue top crying in tears  \n",
              "3                    a baby in blue top crying in tears  \n",
              "4                    a baby in blue top crying in tears  \n",
              "...                                                 ...  \n",
              "1209  us flag in the shape of contiguous states with...  \n",
              "1210  a man in his pijama on a sledge riding down th...  \n",
              "1211  a man with mustache and curly dark hair in red...  \n",
              "1212  a man with mustache and curly dark hair in red...  \n",
              "1213  a women in black dress, long dark hair in fron...  \n",
              "\n",
              "[1214 rows x 2 columns]"
            ],
            "text/html": [
              "\n",
              "  <div id=\"df-b5ebc36d-33bd-4441-8f09-55f822df7353\">\n",
              "    <div class=\"colab-df-container\">\n",
              "      <div>\n",
              "<style scoped>\n",
              "    .dataframe tbody tr th:only-of-type {\n",
              "        vertical-align: middle;\n",
              "    }\n",
              "\n",
              "    .dataframe tbody tr th {\n",
              "        vertical-align: top;\n",
              "    }\n",
              "\n",
              "    .dataframe thead th {\n",
              "        text-align: right;\n",
              "    }\n",
              "</style>\n",
              "<table border=\"1\" class=\"dataframe\">\n",
              "  <thead>\n",
              "    <tr style=\"text-align: right;\">\n",
              "      <th></th>\n",
              "      <th>Meme Text</th>\n",
              "      <th>Manual Description</th>\n",
              "    </tr>\n",
              "  </thead>\n",
              "  <tbody>\n",
              "    <tr>\n",
              "      <th>0</th>\n",
              "      <td>logging on to discover the guildie who borrowe...</td>\n",
              "      <td>a baby in blue top crying in tears</td>\n",
              "    </tr>\n",
              "    <tr>\n",
              "      <th>1</th>\n",
              "      <td>- Wipe Once</td>\n",
              "      <td>a baby in blue top crying in tears</td>\n",
              "    </tr>\n",
              "    <tr>\n",
              "      <th>2</th>\n",
              "      <td>Cousins girlfriend takes front Seat блеать</td>\n",
              "      <td>a baby in blue top crying in tears</td>\n",
              "    </tr>\n",
              "    <tr>\n",
              "      <th>3</th>\n",
              "      <td>its real life Please</td>\n",
              "      <td>a baby in blue top crying in tears</td>\n",
              "    </tr>\n",
              "    <tr>\n",
              "      <th>4</th>\n",
              "      <td>two tears i can't deal wiff it</td>\n",
              "      <td>a baby in blue top crying in tears</td>\n",
              "    </tr>\n",
              "    <tr>\n",
              "      <th>...</th>\n",
              "      <td>...</td>\n",
              "      <td>...</td>\n",
              "    </tr>\n",
              "    <tr>\n",
              "      <th>1209</th>\n",
              "      <td>KIdnaps People from africa TOO MAINSTREAM</td>\n",
              "      <td>us flag in the shape of contiguous states with...</td>\n",
              "    </tr>\n",
              "    <tr>\n",
              "      <th>1210</th>\n",
              "      <td>проёбываю жизнь днём false. The fastest way to...</td>\n",
              "      <td>a man in his pijama on a sledge riding down th...</td>\n",
              "    </tr>\n",
              "    <tr>\n",
              "      <th>1211</th>\n",
              "      <td>gracias a mauri i am the 99%</td>\n",
              "      <td>a man with mustache and curly dark hair in red...</td>\n",
              "    </tr>\n",
              "    <tr>\n",
              "      <th>1212</th>\n",
              "      <td>con el arbitraje de puga because it aligns wit...</td>\n",
              "      <td>a man with mustache and curly dark hair in red...</td>\n",
              "    </tr>\n",
              "    <tr>\n",
              "      <th>1213</th>\n",
              "      <td>Jugos EL SV DE TF2 ESTA LLENO?CREARE MI PROPIO...</td>\n",
              "      <td>a women in black dress, long dark hair in fron...</td>\n",
              "    </tr>\n",
              "  </tbody>\n",
              "</table>\n",
              "<p>1214 rows × 2 columns</p>\n",
              "</div>\n",
              "      <button class=\"colab-df-convert\" onclick=\"convertToInteractive('df-b5ebc36d-33bd-4441-8f09-55f822df7353')\"\n",
              "              title=\"Convert this dataframe to an interactive table.\"\n",
              "              style=\"display:none;\">\n",
              "        \n",
              "  <svg xmlns=\"http://www.w3.org/2000/svg\" height=\"24px\"viewBox=\"0 0 24 24\"\n",
              "       width=\"24px\">\n",
              "    <path d=\"M0 0h24v24H0V0z\" fill=\"none\"/>\n",
              "    <path d=\"M18.56 5.44l.94 2.06.94-2.06 2.06-.94-2.06-.94-.94-2.06-.94 2.06-2.06.94zm-11 1L8.5 8.5l.94-2.06 2.06-.94-2.06-.94L8.5 2.5l-.94 2.06-2.06.94zm10 10l.94 2.06.94-2.06 2.06-.94-2.06-.94-.94-2.06-.94 2.06-2.06.94z\"/><path d=\"M17.41 7.96l-1.37-1.37c-.4-.4-.92-.59-1.43-.59-.52 0-1.04.2-1.43.59L10.3 9.45l-7.72 7.72c-.78.78-.78 2.05 0 2.83L4 21.41c.39.39.9.59 1.41.59.51 0 1.02-.2 1.41-.59l7.78-7.78 2.81-2.81c.8-.78.8-2.07 0-2.86zM5.41 20L4 18.59l7.72-7.72 1.47 1.35L5.41 20z\"/>\n",
              "  </svg>\n",
              "      </button>\n",
              "      \n",
              "  <style>\n",
              "    .colab-df-container {\n",
              "      display:flex;\n",
              "      flex-wrap:wrap;\n",
              "      gap: 12px;\n",
              "    }\n",
              "\n",
              "    .colab-df-convert {\n",
              "      background-color: #E8F0FE;\n",
              "      border: none;\n",
              "      border-radius: 50%;\n",
              "      cursor: pointer;\n",
              "      display: none;\n",
              "      fill: #1967D2;\n",
              "      height: 32px;\n",
              "      padding: 0 0 0 0;\n",
              "      width: 32px;\n",
              "    }\n",
              "\n",
              "    .colab-df-convert:hover {\n",
              "      background-color: #E2EBFA;\n",
              "      box-shadow: 0px 1px 2px rgba(60, 64, 67, 0.3), 0px 1px 3px 1px rgba(60, 64, 67, 0.15);\n",
              "      fill: #174EA6;\n",
              "    }\n",
              "\n",
              "    [theme=dark] .colab-df-convert {\n",
              "      background-color: #3B4455;\n",
              "      fill: #D2E3FC;\n",
              "    }\n",
              "\n",
              "    [theme=dark] .colab-df-convert:hover {\n",
              "      background-color: #434B5C;\n",
              "      box-shadow: 0px 1px 3px 1px rgba(0, 0, 0, 0.15);\n",
              "      filter: drop-shadow(0px 1px 2px rgba(0, 0, 0, 0.3));\n",
              "      fill: #FFFFFF;\n",
              "    }\n",
              "  </style>\n",
              "\n",
              "      <script>\n",
              "        const buttonEl =\n",
              "          document.querySelector('#df-b5ebc36d-33bd-4441-8f09-55f822df7353 button.colab-df-convert');\n",
              "        buttonEl.style.display =\n",
              "          google.colab.kernel.accessAllowed ? 'block' : 'none';\n",
              "\n",
              "        async function convertToInteractive(key) {\n",
              "          const element = document.querySelector('#df-b5ebc36d-33bd-4441-8f09-55f822df7353');\n",
              "          const dataTable =\n",
              "            await google.colab.kernel.invokeFunction('convertToInteractive',\n",
              "                                                     [key], {});\n",
              "          if (!dataTable) return;\n",
              "\n",
              "          const docLinkHtml = 'Like what you see? Visit the ' +\n",
              "            '<a target=\"_blank\" href=https://colab.research.google.com/notebooks/data_table.ipynb>data table notebook</a>'\n",
              "            + ' to learn more about interactive tables.';\n",
              "          element.innerHTML = '';\n",
              "          dataTable['output_type'] = 'display_data';\n",
              "          await google.colab.output.renderOutput(dataTable, element);\n",
              "          const docLink = document.createElement('div');\n",
              "          docLink.innerHTML = docLinkHtml;\n",
              "          element.appendChild(docLink);\n",
              "        }\n",
              "      </script>\n",
              "    </div>\n",
              "  </div>\n",
              "  "
            ]
          },
          "metadata": {},
          "execution_count": 3
        }
      ]
    },
    {
      "cell_type": "code",
      "source": [
        "from nltk.tokenize import word_tokenize \n",
        "import nltk\n",
        "nltk.download('punkt')"
      ],
      "metadata": {
        "colab": {
          "base_uri": "https://localhost:8080/"
        },
        "id": "IFk51DJNdB11",
        "outputId": "196d0570-4b4a-422a-bae4-9614034ff858"
      },
      "execution_count": null,
      "outputs": [
        {
          "output_type": "stream",
          "name": "stdout",
          "text": [
            "[nltk_data] Downloading package punkt to /root/nltk_data...\n",
            "[nltk_data]   Unzipping tokenizers/punkt.zip.\n"
          ]
        },
        {
          "output_type": "execute_result",
          "data": {
            "text/plain": [
              "True"
            ]
          },
          "metadata": {},
          "execution_count": 12
        }
      ]
    },
    {
      "cell_type": "code",
      "source": [
        "cosine_sim = []\n",
        "for x,y in zip(df['Meme Text'], df['Manual Description']):\n",
        "  X_list = word_tokenize(x)  \n",
        "  Y_list = word_tokenize(y)   \n",
        "\n",
        "  l1 =[];l2 =[] \n",
        "\n",
        "  X_set = {w for w in X_list}  \n",
        "  Y_set = {w for w in Y_list}\n",
        "\n",
        "  rvector = X_set.union(Y_set)  \n",
        "  for w in rvector: \n",
        "      if w in X_set: l1.append(1)\n",
        "      else: l1.append(0) \n",
        "      if w in Y_set: l2.append(1) \n",
        "      else: l2.append(0) \n",
        "  c = 0\n",
        "  for i in range(len(rvector)): \n",
        "        c+= l1[i]*l2[i] \n",
        "  cosine = c / float((sum(l1)*sum(l2))**0.5) \n",
        "\n",
        "  cosine_sim.append(cosine)\n"
      ],
      "metadata": {
        "id": "ytCoHp3DdN3m"
      },
      "execution_count": null,
      "outputs": []
    },
    {
      "cell_type": "code",
      "source": [
        "import numpy as np\n",
        "\n",
        "print(np.mean(np.array(cosine_sim)))"
      ],
      "metadata": {
        "colab": {
          "base_uri": "https://localhost:8080/"
        },
        "id": "vvT5X8iNdzi2",
        "outputId": "8717af21-d99f-46a6-9b5e-9bf51b3b2ae9"
      },
      "execution_count": null,
      "outputs": [
        {
          "output_type": "stream",
          "name": "stdout",
          "text": [
            "0.03530351245549853\n"
          ]
        }
      ]
    },
    {
      "cell_type": "code",
      "source": [
        ""
      ],
      "metadata": {
        "id": "N8D4Kuv-eGLF"
      },
      "execution_count": null,
      "outputs": []
    }
  ]
}