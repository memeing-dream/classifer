{
  "nbformat": 4,
  "nbformat_minor": 0,
  "metadata": {
    "colab": {
      "name": "DeepLearningFinalMemeMultiModal.ipynb",
      "provenance": []
    },
    "kernelspec": {
      "name": "python3",
      "display_name": "Python 3"
    },
    "language_info": {
      "name": "python"
    }
  },
  "cells": [
    {
      "cell_type": "markdown",
      "source": [
        "# Setup"
      ],
      "metadata": {
        "id": "BOh96vrO5VfF"
      }
    },
    {
      "cell_type": "code",
      "execution_count": 1,
      "metadata": {
        "colab": {
          "base_uri": "https://localhost:8080/"
        },
        "id": "XhBEgRN0t8KQ",
        "outputId": "913f2dd0-5853-4d23-d448-b46a587bc758"
      },
      "outputs": [
        {
          "output_type": "stream",
          "name": "stdout",
          "text": [
            "[nltk_data] Downloading package stopwords to /root/nltk_data...\n",
            "[nltk_data]   Unzipping corpora/stopwords.zip.\n",
            "[nltk_data] Downloading package punkt to /root/nltk_data...\n",
            "[nltk_data]   Unzipping tokenizers/punkt.zip.\n",
            "[nltk_data] Downloading package wordnet to /root/nltk_data...\n",
            "[nltk_data]   Unzipping corpora/wordnet.zip.\n"
          ]
        }
      ],
      "source": [
        "# load library\n",
        "import numpy as np\n",
        "import pandas as pd\n",
        "import pickle\n",
        "import re\n",
        "import nltk\n",
        "nltk.download('stopwords')\n",
        "nltk.download('punkt')\n",
        "nltk.download('wordnet')\n",
        "from nltk.corpus import stopwords\n",
        "from nltk.stem import WordNetLemmatizer \n",
        "from nltk.tokenize import word_tokenize \n",
        "import matplotlib.pyplot as plt\n",
        "import seaborn as sns\n",
        "import matplotlib.style as style\n",
        "import ast\n",
        "from sklearn.preprocessing import MultiLabelBinarizer\n",
        "from string import punctuation\n",
        "from gensim.models import KeyedVectors\n",
        "#eval metrics\n",
        "from sklearn.metrics import hamming_loss\n",
        "from sklearn.metrics import accuracy_score\n",
        "from sklearn.metrics import confusion_matrix\n",
        "from sklearn.metrics import precision_score\n",
        "from sklearn.metrics import recall_score\n",
        "from sklearn.metrics import f1_score\n",
        "from sklearn.metrics import roc_auc_score"
      ]
    },
    {
      "cell_type": "code",
      "source": [
        "import os\n",
        "from google.colab import drive\n",
        "drive.mount('/content/drive')\n",
        "os.chdir('/content/drive/MyDrive/UChicago/Spring 2022/MACS 37000 Thinking with Deep Learning for Complex Social & Cultural Data Analysis/Misogynistic Memes/MEME-main/')"
      ],
      "metadata": {
        "colab": {
          "base_uri": "https://localhost:8080/"
        },
        "id": "c7I3h6UKuP7_",
        "outputId": "a465b5b0-28b4-44e5-9676-bba8db2044b7"
      },
      "execution_count": 3,
      "outputs": [
        {
          "output_type": "stream",
          "name": "stdout",
          "text": [
            "Mounted at /content/drive\n"
          ]
        }
      ]
    },
    {
      "cell_type": "markdown",
      "source": [
        "# Preparing Data"
      ],
      "metadata": {
        "id": "pYc4muj_5oCp"
      }
    },
    {
      "cell_type": "code",
      "source": [
        "#load meme data \n",
        "meme = pd.read_csv(\"/content/drive/MyDrive/UChicago/Spring 2022/MACS 37000 Thinking with Deep Learning for Complex Social & Cultural Data Analysis/Memes/memegendf.csv\")\n",
        "meme = meme[['Filenames','Meme Text']]\n",
        "meme.columns = ['image','text']\n",
        "meme['meme'] = 1\n",
        "meme['path'] = '/content/drive/MyDrive/UChicago/Spring 2022/MACS 37000 Thinking with Deep Learning for Complex Social & Cultural Data Analysis/Memes/memes/'+meme['image']\n",
        "meme.head()"
      ],
      "metadata": {
        "colab": {
          "base_uri": "https://localhost:8080/",
          "height": 206
        },
        "id": "TP85bbDiuo9c",
        "outputId": "99358b46-948d-45c5-ff8b-a9f6b468f968"
      },
      "execution_count": 19,
      "outputs": [
        {
          "output_type": "execute_result",
          "data": {
            "text/plain": [
              "          image                                               text  meme  \\\n",
              "0  12285257.jpg  Fret not I stayed at a Holiday Inn Express las...     1   \n",
              "1  20612245.jpg  hello airplanes? yeah, this is blimps. Yeah, y...     1   \n",
              "2  24194267.jpg  one does not simply  put toothpaste back in th...     1   \n",
              "3  10179556.jpg                  WE FOUND LOVE  IN A HORCRUX place     1   \n",
              "4  10181785.jpg  Animals not smart enough to believe in me Deny...     1   \n",
              "\n",
              "                                                path  \n",
              "0  /content/drive/MyDrive/UChicago/Spring 2022/MA...  \n",
              "1  /content/drive/MyDrive/UChicago/Spring 2022/MA...  \n",
              "2  /content/drive/MyDrive/UChicago/Spring 2022/MA...  \n",
              "3  /content/drive/MyDrive/UChicago/Spring 2022/MA...  \n",
              "4  /content/drive/MyDrive/UChicago/Spring 2022/MA...  "
            ],
            "text/html": [
              "\n",
              "  <div id=\"df-386c25bb-9c4e-48d9-b7bc-d41891a14e8d\">\n",
              "    <div class=\"colab-df-container\">\n",
              "      <div>\n",
              "<style scoped>\n",
              "    .dataframe tbody tr th:only-of-type {\n",
              "        vertical-align: middle;\n",
              "    }\n",
              "\n",
              "    .dataframe tbody tr th {\n",
              "        vertical-align: top;\n",
              "    }\n",
              "\n",
              "    .dataframe thead th {\n",
              "        text-align: right;\n",
              "    }\n",
              "</style>\n",
              "<table border=\"1\" class=\"dataframe\">\n",
              "  <thead>\n",
              "    <tr style=\"text-align: right;\">\n",
              "      <th></th>\n",
              "      <th>image</th>\n",
              "      <th>text</th>\n",
              "      <th>meme</th>\n",
              "      <th>path</th>\n",
              "    </tr>\n",
              "  </thead>\n",
              "  <tbody>\n",
              "    <tr>\n",
              "      <th>0</th>\n",
              "      <td>12285257.jpg</td>\n",
              "      <td>Fret not I stayed at a Holiday Inn Express las...</td>\n",
              "      <td>1</td>\n",
              "      <td>/content/drive/MyDrive/UChicago/Spring 2022/MA...</td>\n",
              "    </tr>\n",
              "    <tr>\n",
              "      <th>1</th>\n",
              "      <td>20612245.jpg</td>\n",
              "      <td>hello airplanes? yeah, this is blimps. Yeah, y...</td>\n",
              "      <td>1</td>\n",
              "      <td>/content/drive/MyDrive/UChicago/Spring 2022/MA...</td>\n",
              "    </tr>\n",
              "    <tr>\n",
              "      <th>2</th>\n",
              "      <td>24194267.jpg</td>\n",
              "      <td>one does not simply  put toothpaste back in th...</td>\n",
              "      <td>1</td>\n",
              "      <td>/content/drive/MyDrive/UChicago/Spring 2022/MA...</td>\n",
              "    </tr>\n",
              "    <tr>\n",
              "      <th>3</th>\n",
              "      <td>10179556.jpg</td>\n",
              "      <td>WE FOUND LOVE  IN A HORCRUX place</td>\n",
              "      <td>1</td>\n",
              "      <td>/content/drive/MyDrive/UChicago/Spring 2022/MA...</td>\n",
              "    </tr>\n",
              "    <tr>\n",
              "      <th>4</th>\n",
              "      <td>10181785.jpg</td>\n",
              "      <td>Animals not smart enough to believe in me Deny...</td>\n",
              "      <td>1</td>\n",
              "      <td>/content/drive/MyDrive/UChicago/Spring 2022/MA...</td>\n",
              "    </tr>\n",
              "  </tbody>\n",
              "</table>\n",
              "</div>\n",
              "      <button class=\"colab-df-convert\" onclick=\"convertToInteractive('df-386c25bb-9c4e-48d9-b7bc-d41891a14e8d')\"\n",
              "              title=\"Convert this dataframe to an interactive table.\"\n",
              "              style=\"display:none;\">\n",
              "        \n",
              "  <svg xmlns=\"http://www.w3.org/2000/svg\" height=\"24px\"viewBox=\"0 0 24 24\"\n",
              "       width=\"24px\">\n",
              "    <path d=\"M0 0h24v24H0V0z\" fill=\"none\"/>\n",
              "    <path d=\"M18.56 5.44l.94 2.06.94-2.06 2.06-.94-2.06-.94-.94-2.06-.94 2.06-2.06.94zm-11 1L8.5 8.5l.94-2.06 2.06-.94-2.06-.94L8.5 2.5l-.94 2.06-2.06.94zm10 10l.94 2.06.94-2.06 2.06-.94-2.06-.94-.94-2.06-.94 2.06-2.06.94z\"/><path d=\"M17.41 7.96l-1.37-1.37c-.4-.4-.92-.59-1.43-.59-.52 0-1.04.2-1.43.59L10.3 9.45l-7.72 7.72c-.78.78-.78 2.05 0 2.83L4 21.41c.39.39.9.59 1.41.59.51 0 1.02-.2 1.41-.59l7.78-7.78 2.81-2.81c.8-.78.8-2.07 0-2.86zM5.41 20L4 18.59l7.72-7.72 1.47 1.35L5.41 20z\"/>\n",
              "  </svg>\n",
              "      </button>\n",
              "      \n",
              "  <style>\n",
              "    .colab-df-container {\n",
              "      display:flex;\n",
              "      flex-wrap:wrap;\n",
              "      gap: 12px;\n",
              "    }\n",
              "\n",
              "    .colab-df-convert {\n",
              "      background-color: #E8F0FE;\n",
              "      border: none;\n",
              "      border-radius: 50%;\n",
              "      cursor: pointer;\n",
              "      display: none;\n",
              "      fill: #1967D2;\n",
              "      height: 32px;\n",
              "      padding: 0 0 0 0;\n",
              "      width: 32px;\n",
              "    }\n",
              "\n",
              "    .colab-df-convert:hover {\n",
              "      background-color: #E2EBFA;\n",
              "      box-shadow: 0px 1px 2px rgba(60, 64, 67, 0.3), 0px 1px 3px 1px rgba(60, 64, 67, 0.15);\n",
              "      fill: #174EA6;\n",
              "    }\n",
              "\n",
              "    [theme=dark] .colab-df-convert {\n",
              "      background-color: #3B4455;\n",
              "      fill: #D2E3FC;\n",
              "    }\n",
              "\n",
              "    [theme=dark] .colab-df-convert:hover {\n",
              "      background-color: #434B5C;\n",
              "      box-shadow: 0px 1px 3px 1px rgba(0, 0, 0, 0.15);\n",
              "      filter: drop-shadow(0px 1px 2px rgba(0, 0, 0, 0.3));\n",
              "      fill: #FFFFFF;\n",
              "    }\n",
              "  </style>\n",
              "\n",
              "      <script>\n",
              "        const buttonEl =\n",
              "          document.querySelector('#df-386c25bb-9c4e-48d9-b7bc-d41891a14e8d button.colab-df-convert');\n",
              "        buttonEl.style.display =\n",
              "          google.colab.kernel.accessAllowed ? 'block' : 'none';\n",
              "\n",
              "        async function convertToInteractive(key) {\n",
              "          const element = document.querySelector('#df-386c25bb-9c4e-48d9-b7bc-d41891a14e8d');\n",
              "          const dataTable =\n",
              "            await google.colab.kernel.invokeFunction('convertToInteractive',\n",
              "                                                     [key], {});\n",
              "          if (!dataTable) return;\n",
              "\n",
              "          const docLinkHtml = 'Like what you see? Visit the ' +\n",
              "            '<a target=\"_blank\" href=https://colab.research.google.com/notebooks/data_table.ipynb>data table notebook</a>'\n",
              "            + ' to learn more about interactive tables.';\n",
              "          element.innerHTML = '';\n",
              "          dataTable['output_type'] = 'display_data';\n",
              "          await google.colab.output.renderOutput(dataTable, element);\n",
              "          const docLink = document.createElement('div');\n",
              "          docLink.innerHTML = docLinkHtml;\n",
              "          element.appendChild(docLink);\n",
              "        }\n",
              "      </script>\n",
              "    </div>\n",
              "  </div>\n",
              "  "
            ]
          },
          "metadata": {},
          "execution_count": 19
        }
      ]
    },
    {
      "cell_type": "code",
      "source": [
        "#load inspiration quotes data \n",
        "quote = pd.read_csv(\"/content/drive/MyDrive/UChicago/Spring 2022/MACS 37000 Thinking with Deep Learning for Complex Social & Cultural Data Analysis/Memes/inspirational.csv\")\n",
        "quote = quote[['file_name','text']]\n",
        "quote.columns = ['image','text']\n",
        "quote['meme'] = 0\n",
        "quote['path'] = '/content/drive/MyDrive/UChicago/Spring 2022/MACS 37000 Thinking with Deep Learning for Complex Social & Cultural Data Analysis/Memes/inspirational/'+quote['image']\n",
        "quote.head()"
      ],
      "metadata": {
        "colab": {
          "base_uri": "https://localhost:8080/",
          "height": 206
        },
        "id": "hw3aHwtdvNj2",
        "outputId": "bead511d-7b5a-400f-cafc-7504a618d532"
      },
      "execution_count": 20,
      "outputs": [
        {
          "output_type": "execute_result",
          "data": {
            "text/plain": [
              "   image                                           text  meme  \\\n",
              "0  1.jpg  if you get tired, learn to rest, not to quit.     0   \n",
              "1  2.jpg                         dare to trust yourself     0   \n",
              "2  3.jpg                  christ your key to true power     0   \n",
              "3  4.jpg                       know that dream cometrue     0   \n",
              "4  5.jpg                    does your mind focus on fun     0   \n",
              "\n",
              "                                                path  \n",
              "0  /content/drive/MyDrive/UChicago/Spring 2022/MA...  \n",
              "1  /content/drive/MyDrive/UChicago/Spring 2022/MA...  \n",
              "2  /content/drive/MyDrive/UChicago/Spring 2022/MA...  \n",
              "3  /content/drive/MyDrive/UChicago/Spring 2022/MA...  \n",
              "4  /content/drive/MyDrive/UChicago/Spring 2022/MA...  "
            ],
            "text/html": [
              "\n",
              "  <div id=\"df-8a1d19df-f13e-4d26-974f-e04186c5d447\">\n",
              "    <div class=\"colab-df-container\">\n",
              "      <div>\n",
              "<style scoped>\n",
              "    .dataframe tbody tr th:only-of-type {\n",
              "        vertical-align: middle;\n",
              "    }\n",
              "\n",
              "    .dataframe tbody tr th {\n",
              "        vertical-align: top;\n",
              "    }\n",
              "\n",
              "    .dataframe thead th {\n",
              "        text-align: right;\n",
              "    }\n",
              "</style>\n",
              "<table border=\"1\" class=\"dataframe\">\n",
              "  <thead>\n",
              "    <tr style=\"text-align: right;\">\n",
              "      <th></th>\n",
              "      <th>image</th>\n",
              "      <th>text</th>\n",
              "      <th>meme</th>\n",
              "      <th>path</th>\n",
              "    </tr>\n",
              "  </thead>\n",
              "  <tbody>\n",
              "    <tr>\n",
              "      <th>0</th>\n",
              "      <td>1.jpg</td>\n",
              "      <td>if you get tired, learn to rest, not to quit.</td>\n",
              "      <td>0</td>\n",
              "      <td>/content/drive/MyDrive/UChicago/Spring 2022/MA...</td>\n",
              "    </tr>\n",
              "    <tr>\n",
              "      <th>1</th>\n",
              "      <td>2.jpg</td>\n",
              "      <td>dare to trust yourself</td>\n",
              "      <td>0</td>\n",
              "      <td>/content/drive/MyDrive/UChicago/Spring 2022/MA...</td>\n",
              "    </tr>\n",
              "    <tr>\n",
              "      <th>2</th>\n",
              "      <td>3.jpg</td>\n",
              "      <td>christ your key to true power</td>\n",
              "      <td>0</td>\n",
              "      <td>/content/drive/MyDrive/UChicago/Spring 2022/MA...</td>\n",
              "    </tr>\n",
              "    <tr>\n",
              "      <th>3</th>\n",
              "      <td>4.jpg</td>\n",
              "      <td>know that dream cometrue</td>\n",
              "      <td>0</td>\n",
              "      <td>/content/drive/MyDrive/UChicago/Spring 2022/MA...</td>\n",
              "    </tr>\n",
              "    <tr>\n",
              "      <th>4</th>\n",
              "      <td>5.jpg</td>\n",
              "      <td>does your mind focus on fun</td>\n",
              "      <td>0</td>\n",
              "      <td>/content/drive/MyDrive/UChicago/Spring 2022/MA...</td>\n",
              "    </tr>\n",
              "  </tbody>\n",
              "</table>\n",
              "</div>\n",
              "      <button class=\"colab-df-convert\" onclick=\"convertToInteractive('df-8a1d19df-f13e-4d26-974f-e04186c5d447')\"\n",
              "              title=\"Convert this dataframe to an interactive table.\"\n",
              "              style=\"display:none;\">\n",
              "        \n",
              "  <svg xmlns=\"http://www.w3.org/2000/svg\" height=\"24px\"viewBox=\"0 0 24 24\"\n",
              "       width=\"24px\">\n",
              "    <path d=\"M0 0h24v24H0V0z\" fill=\"none\"/>\n",
              "    <path d=\"M18.56 5.44l.94 2.06.94-2.06 2.06-.94-2.06-.94-.94-2.06-.94 2.06-2.06.94zm-11 1L8.5 8.5l.94-2.06 2.06-.94-2.06-.94L8.5 2.5l-.94 2.06-2.06.94zm10 10l.94 2.06.94-2.06 2.06-.94-2.06-.94-.94-2.06-.94 2.06-2.06.94z\"/><path d=\"M17.41 7.96l-1.37-1.37c-.4-.4-.92-.59-1.43-.59-.52 0-1.04.2-1.43.59L10.3 9.45l-7.72 7.72c-.78.78-.78 2.05 0 2.83L4 21.41c.39.39.9.59 1.41.59.51 0 1.02-.2 1.41-.59l7.78-7.78 2.81-2.81c.8-.78.8-2.07 0-2.86zM5.41 20L4 18.59l7.72-7.72 1.47 1.35L5.41 20z\"/>\n",
              "  </svg>\n",
              "      </button>\n",
              "      \n",
              "  <style>\n",
              "    .colab-df-container {\n",
              "      display:flex;\n",
              "      flex-wrap:wrap;\n",
              "      gap: 12px;\n",
              "    }\n",
              "\n",
              "    .colab-df-convert {\n",
              "      background-color: #E8F0FE;\n",
              "      border: none;\n",
              "      border-radius: 50%;\n",
              "      cursor: pointer;\n",
              "      display: none;\n",
              "      fill: #1967D2;\n",
              "      height: 32px;\n",
              "      padding: 0 0 0 0;\n",
              "      width: 32px;\n",
              "    }\n",
              "\n",
              "    .colab-df-convert:hover {\n",
              "      background-color: #E2EBFA;\n",
              "      box-shadow: 0px 1px 2px rgba(60, 64, 67, 0.3), 0px 1px 3px 1px rgba(60, 64, 67, 0.15);\n",
              "      fill: #174EA6;\n",
              "    }\n",
              "\n",
              "    [theme=dark] .colab-df-convert {\n",
              "      background-color: #3B4455;\n",
              "      fill: #D2E3FC;\n",
              "    }\n",
              "\n",
              "    [theme=dark] .colab-df-convert:hover {\n",
              "      background-color: #434B5C;\n",
              "      box-shadow: 0px 1px 3px 1px rgba(0, 0, 0, 0.15);\n",
              "      filter: drop-shadow(0px 1px 2px rgba(0, 0, 0, 0.3));\n",
              "      fill: #FFFFFF;\n",
              "    }\n",
              "  </style>\n",
              "\n",
              "      <script>\n",
              "        const buttonEl =\n",
              "          document.querySelector('#df-8a1d19df-f13e-4d26-974f-e04186c5d447 button.colab-df-convert');\n",
              "        buttonEl.style.display =\n",
              "          google.colab.kernel.accessAllowed ? 'block' : 'none';\n",
              "\n",
              "        async function convertToInteractive(key) {\n",
              "          const element = document.querySelector('#df-8a1d19df-f13e-4d26-974f-e04186c5d447');\n",
              "          const dataTable =\n",
              "            await google.colab.kernel.invokeFunction('convertToInteractive',\n",
              "                                                     [key], {});\n",
              "          if (!dataTable) return;\n",
              "\n",
              "          const docLinkHtml = 'Like what you see? Visit the ' +\n",
              "            '<a target=\"_blank\" href=https://colab.research.google.com/notebooks/data_table.ipynb>data table notebook</a>'\n",
              "            + ' to learn more about interactive tables.';\n",
              "          element.innerHTML = '';\n",
              "          dataTable['output_type'] = 'display_data';\n",
              "          await google.colab.output.renderOutput(dataTable, element);\n",
              "          const docLink = document.createElement('div');\n",
              "          docLink.innerHTML = docLinkHtml;\n",
              "          element.appendChild(docLink);\n",
              "        }\n",
              "      </script>\n",
              "    </div>\n",
              "  </div>\n",
              "  "
            ]
          },
          "metadata": {},
          "execution_count": 20
        }
      ]
    },
    {
      "cell_type": "code",
      "source": [
        "#combine dataset\n",
        "memeq = pd.concat([meme,quote])\n",
        "memeq.head()"
      ],
      "metadata": {
        "colab": {
          "base_uri": "https://localhost:8080/",
          "height": 206
        },
        "id": "t2DBXzfzvNgQ",
        "outputId": "a93cf0f4-d878-40e1-877b-f865d990fb48"
      },
      "execution_count": 21,
      "outputs": [
        {
          "output_type": "execute_result",
          "data": {
            "text/plain": [
              "          image                                               text  meme  \\\n",
              "0  12285257.jpg  Fret not I stayed at a Holiday Inn Express las...     1   \n",
              "1  20612245.jpg  hello airplanes? yeah, this is blimps. Yeah, y...     1   \n",
              "2  24194267.jpg  one does not simply  put toothpaste back in th...     1   \n",
              "3  10179556.jpg                  WE FOUND LOVE  IN A HORCRUX place     1   \n",
              "4  10181785.jpg  Animals not smart enough to believe in me Deny...     1   \n",
              "\n",
              "                                                path  \n",
              "0  /content/drive/MyDrive/UChicago/Spring 2022/MA...  \n",
              "1  /content/drive/MyDrive/UChicago/Spring 2022/MA...  \n",
              "2  /content/drive/MyDrive/UChicago/Spring 2022/MA...  \n",
              "3  /content/drive/MyDrive/UChicago/Spring 2022/MA...  \n",
              "4  /content/drive/MyDrive/UChicago/Spring 2022/MA...  "
            ],
            "text/html": [
              "\n",
              "  <div id=\"df-b2e500fe-e53c-4587-97ad-cf58ec286d7e\">\n",
              "    <div class=\"colab-df-container\">\n",
              "      <div>\n",
              "<style scoped>\n",
              "    .dataframe tbody tr th:only-of-type {\n",
              "        vertical-align: middle;\n",
              "    }\n",
              "\n",
              "    .dataframe tbody tr th {\n",
              "        vertical-align: top;\n",
              "    }\n",
              "\n",
              "    .dataframe thead th {\n",
              "        text-align: right;\n",
              "    }\n",
              "</style>\n",
              "<table border=\"1\" class=\"dataframe\">\n",
              "  <thead>\n",
              "    <tr style=\"text-align: right;\">\n",
              "      <th></th>\n",
              "      <th>image</th>\n",
              "      <th>text</th>\n",
              "      <th>meme</th>\n",
              "      <th>path</th>\n",
              "    </tr>\n",
              "  </thead>\n",
              "  <tbody>\n",
              "    <tr>\n",
              "      <th>0</th>\n",
              "      <td>12285257.jpg</td>\n",
              "      <td>Fret not I stayed at a Holiday Inn Express las...</td>\n",
              "      <td>1</td>\n",
              "      <td>/content/drive/MyDrive/UChicago/Spring 2022/MA...</td>\n",
              "    </tr>\n",
              "    <tr>\n",
              "      <th>1</th>\n",
              "      <td>20612245.jpg</td>\n",
              "      <td>hello airplanes? yeah, this is blimps. Yeah, y...</td>\n",
              "      <td>1</td>\n",
              "      <td>/content/drive/MyDrive/UChicago/Spring 2022/MA...</td>\n",
              "    </tr>\n",
              "    <tr>\n",
              "      <th>2</th>\n",
              "      <td>24194267.jpg</td>\n",
              "      <td>one does not simply  put toothpaste back in th...</td>\n",
              "      <td>1</td>\n",
              "      <td>/content/drive/MyDrive/UChicago/Spring 2022/MA...</td>\n",
              "    </tr>\n",
              "    <tr>\n",
              "      <th>3</th>\n",
              "      <td>10179556.jpg</td>\n",
              "      <td>WE FOUND LOVE  IN A HORCRUX place</td>\n",
              "      <td>1</td>\n",
              "      <td>/content/drive/MyDrive/UChicago/Spring 2022/MA...</td>\n",
              "    </tr>\n",
              "    <tr>\n",
              "      <th>4</th>\n",
              "      <td>10181785.jpg</td>\n",
              "      <td>Animals not smart enough to believe in me Deny...</td>\n",
              "      <td>1</td>\n",
              "      <td>/content/drive/MyDrive/UChicago/Spring 2022/MA...</td>\n",
              "    </tr>\n",
              "  </tbody>\n",
              "</table>\n",
              "</div>\n",
              "      <button class=\"colab-df-convert\" onclick=\"convertToInteractive('df-b2e500fe-e53c-4587-97ad-cf58ec286d7e')\"\n",
              "              title=\"Convert this dataframe to an interactive table.\"\n",
              "              style=\"display:none;\">\n",
              "        \n",
              "  <svg xmlns=\"http://www.w3.org/2000/svg\" height=\"24px\"viewBox=\"0 0 24 24\"\n",
              "       width=\"24px\">\n",
              "    <path d=\"M0 0h24v24H0V0z\" fill=\"none\"/>\n",
              "    <path d=\"M18.56 5.44l.94 2.06.94-2.06 2.06-.94-2.06-.94-.94-2.06-.94 2.06-2.06.94zm-11 1L8.5 8.5l.94-2.06 2.06-.94-2.06-.94L8.5 2.5l-.94 2.06-2.06.94zm10 10l.94 2.06.94-2.06 2.06-.94-2.06-.94-.94-2.06-.94 2.06-2.06.94z\"/><path d=\"M17.41 7.96l-1.37-1.37c-.4-.4-.92-.59-1.43-.59-.52 0-1.04.2-1.43.59L10.3 9.45l-7.72 7.72c-.78.78-.78 2.05 0 2.83L4 21.41c.39.39.9.59 1.41.59.51 0 1.02-.2 1.41-.59l7.78-7.78 2.81-2.81c.8-.78.8-2.07 0-2.86zM5.41 20L4 18.59l7.72-7.72 1.47 1.35L5.41 20z\"/>\n",
              "  </svg>\n",
              "      </button>\n",
              "      \n",
              "  <style>\n",
              "    .colab-df-container {\n",
              "      display:flex;\n",
              "      flex-wrap:wrap;\n",
              "      gap: 12px;\n",
              "    }\n",
              "\n",
              "    .colab-df-convert {\n",
              "      background-color: #E8F0FE;\n",
              "      border: none;\n",
              "      border-radius: 50%;\n",
              "      cursor: pointer;\n",
              "      display: none;\n",
              "      fill: #1967D2;\n",
              "      height: 32px;\n",
              "      padding: 0 0 0 0;\n",
              "      width: 32px;\n",
              "    }\n",
              "\n",
              "    .colab-df-convert:hover {\n",
              "      background-color: #E2EBFA;\n",
              "      box-shadow: 0px 1px 2px rgba(60, 64, 67, 0.3), 0px 1px 3px 1px rgba(60, 64, 67, 0.15);\n",
              "      fill: #174EA6;\n",
              "    }\n",
              "\n",
              "    [theme=dark] .colab-df-convert {\n",
              "      background-color: #3B4455;\n",
              "      fill: #D2E3FC;\n",
              "    }\n",
              "\n",
              "    [theme=dark] .colab-df-convert:hover {\n",
              "      background-color: #434B5C;\n",
              "      box-shadow: 0px 1px 3px 1px rgba(0, 0, 0, 0.15);\n",
              "      filter: drop-shadow(0px 1px 2px rgba(0, 0, 0, 0.3));\n",
              "      fill: #FFFFFF;\n",
              "    }\n",
              "  </style>\n",
              "\n",
              "      <script>\n",
              "        const buttonEl =\n",
              "          document.querySelector('#df-b2e500fe-e53c-4587-97ad-cf58ec286d7e button.colab-df-convert');\n",
              "        buttonEl.style.display =\n",
              "          google.colab.kernel.accessAllowed ? 'block' : 'none';\n",
              "\n",
              "        async function convertToInteractive(key) {\n",
              "          const element = document.querySelector('#df-b2e500fe-e53c-4587-97ad-cf58ec286d7e');\n",
              "          const dataTable =\n",
              "            await google.colab.kernel.invokeFunction('convertToInteractive',\n",
              "                                                     [key], {});\n",
              "          if (!dataTable) return;\n",
              "\n",
              "          const docLinkHtml = 'Like what you see? Visit the ' +\n",
              "            '<a target=\"_blank\" href=https://colab.research.google.com/notebooks/data_table.ipynb>data table notebook</a>'\n",
              "            + ' to learn more about interactive tables.';\n",
              "          element.innerHTML = '';\n",
              "          dataTable['output_type'] = 'display_data';\n",
              "          await google.colab.output.renderOutput(dataTable, element);\n",
              "          const docLink = document.createElement('div');\n",
              "          docLink.innerHTML = docLinkHtml;\n",
              "          element.appendChild(docLink);\n",
              "        }\n",
              "      </script>\n",
              "    </div>\n",
              "  </div>\n",
              "  "
            ]
          },
          "metadata": {},
          "execution_count": 21
        }
      ]
    },
    {
      "cell_type": "code",
      "source": [
        "#Splitting the data into training, testing sets\n",
        "from sklearn.model_selection import train_test_split\n",
        "train, test = train_test_split(memeq, test_size=0.2)"
      ],
      "metadata": {
        "id": "DSZk78u0vNdU"
      },
      "execution_count": 23,
      "outputs": []
    },
    {
      "cell_type": "markdown",
      "source": [
        "# Image to Vectors"
      ],
      "metadata": {
        "id": "R4mcWKaE5wKb"
      }
    },
    {
      "cell_type": "code",
      "source": [
        "import cv2\n",
        "\n",
        "def resize_img(path):\n",
        "  try:\n",
        "    img = cv2.imread(path)\n",
        "    img = cv2.resize(img, (75, 115))\n",
        "    img = img.astype(np.float32)/255\n",
        "    return img\n",
        "  except Exception as e:\n",
        "    print(str(e))\n",
        "    return None"
      ],
      "metadata": {
        "id": "qwjgFSlLvNa1"
      },
      "execution_count": 24,
      "outputs": []
    },
    {
      "cell_type": "code",
      "source": [
        "train_imgs = []\n",
        "i = 0\n",
        "for index, row in train.iterrows():\n",
        "  if i%100 == 0:\n",
        "    print(\"Processing i:\", i, str(row['path']))\n",
        "  img = resize_img(str(row['path']))\n",
        "  if img is not None:\n",
        "    train_imgs.append(img)\n",
        "  else:\n",
        "    train = train.drop(index)\n",
        "    print(\"Dropping row:\", index, \"Length:\", len(train))\n",
        "  i += 1"
      ],
      "metadata": {
        "colab": {
          "base_uri": "https://localhost:8080/"
        },
        "id": "Ip3srl53vNYj",
        "outputId": "159e0154-a932-49ba-8b70-8b07cd56c895"
      },
      "execution_count": 76,
      "outputs": [
        {
          "output_type": "stream",
          "name": "stdout",
          "text": [
            "Processing i: 0 /content/drive/MyDrive/UChicago/Spring 2022/MACS 37000 Thinking with Deep Learning for Complex Social & Cultural Data Analysis/Memes/memes/12406215.jpg\n",
            "Processing i: 100 /content/drive/MyDrive/UChicago/Spring 2022/MACS 37000 Thinking with Deep Learning for Complex Social & Cultural Data Analysis/Memes/memes/13238279.jpg\n",
            "Processing i: 200 /content/drive/MyDrive/UChicago/Spring 2022/MACS 37000 Thinking with Deep Learning for Complex Social & Cultural Data Analysis/Memes/memes/10584189.jpg\n",
            "Processing i: 300 /content/drive/MyDrive/UChicago/Spring 2022/MACS 37000 Thinking with Deep Learning for Complex Social & Cultural Data Analysis/Memes/memes/10417909.jpg\n",
            "Processing i: 400 /content/drive/MyDrive/UChicago/Spring 2022/MACS 37000 Thinking with Deep Learning for Complex Social & Cultural Data Analysis/Memes/inspirational/837.jpg\n",
            "Processing i: 500 /content/drive/MyDrive/UChicago/Spring 2022/MACS 37000 Thinking with Deep Learning for Complex Social & Cultural Data Analysis/Memes/memes/10793131.jpg\n",
            "Processing i: 600 /content/drive/MyDrive/UChicago/Spring 2022/MACS 37000 Thinking with Deep Learning for Complex Social & Cultural Data Analysis/Memes/memes/10300370.jpg\n",
            "Processing i: 700 /content/drive/MyDrive/UChicago/Spring 2022/MACS 37000 Thinking with Deep Learning for Complex Social & Cultural Data Analysis/Memes/inspirational/121.jpg\n",
            "Processing i: 800 /content/drive/MyDrive/UChicago/Spring 2022/MACS 37000 Thinking with Deep Learning for Complex Social & Cultural Data Analysis/Memes/memes/10722104.jpg\n",
            "Processing i: 900 /content/drive/MyDrive/UChicago/Spring 2022/MACS 37000 Thinking with Deep Learning for Complex Social & Cultural Data Analysis/Memes/memes/10614191.jpg\n",
            "Processing i: 1000 /content/drive/MyDrive/UChicago/Spring 2022/MACS 37000 Thinking with Deep Learning for Complex Social & Cultural Data Analysis/Memes/memes/11593331.jpg\n",
            "Processing i: 1100 /content/drive/MyDrive/UChicago/Spring 2022/MACS 37000 Thinking with Deep Learning for Complex Social & Cultural Data Analysis/Memes/inspirational/604.jpg\n",
            "Processing i: 1200 /content/drive/MyDrive/UChicago/Spring 2022/MACS 37000 Thinking with Deep Learning for Complex Social & Cultural Data Analysis/Memes/inspirational/713.jpg\n",
            "Processing i: 1300 /content/drive/MyDrive/UChicago/Spring 2022/MACS 37000 Thinking with Deep Learning for Complex Social & Cultural Data Analysis/Memes/memes/13380233.jpg\n",
            "Processing i: 1400 /content/drive/MyDrive/UChicago/Spring 2022/MACS 37000 Thinking with Deep Learning for Complex Social & Cultural Data Analysis/Memes/inspirational/973.jpg\n",
            "Processing i: 1500 /content/drive/MyDrive/UChicago/Spring 2022/MACS 37000 Thinking with Deep Learning for Complex Social & Cultural Data Analysis/Memes/memes/10814367.jpg\n",
            "Processing i: 1600 /content/drive/MyDrive/UChicago/Spring 2022/MACS 37000 Thinking with Deep Learning for Complex Social & Cultural Data Analysis/Memes/inspirational/150.jpg\n"
          ]
        }
      ]
    },
    {
      "cell_type": "code",
      "source": [
        "test_imgs = []\n",
        "i = 0\n",
        "for index, row in test.iterrows():\n",
        "  if i%100 == 0:\n",
        "    print(\"Processing i:\", i, str(row['path']))\n",
        "  img = resize_img(str(row['path']))\n",
        "  if img is not None:\n",
        "    test_imgs.append(img)\n",
        "  else:\n",
        "    test = test.drop(index)\n",
        "    print(\"Dropping row:\", index, \"Length:\", len(test))\n",
        "  i += 1"
      ],
      "metadata": {
        "colab": {
          "base_uri": "https://localhost:8080/"
        },
        "id": "HJ2Yj2ZnvNQJ",
        "outputId": "1cbec635-edf0-49ce-b2e7-8529d011738e"
      },
      "execution_count": 80,
      "outputs": [
        {
          "output_type": "stream",
          "name": "stdout",
          "text": [
            "Processing i: 0 /content/drive/MyDrive/UChicago/Spring 2022/MACS 37000 Thinking with Deep Learning for Complex Social & Cultural Data Analysis/Memes/memes/11921159.jpg\n",
            "Processing i: 100 /content/drive/MyDrive/UChicago/Spring 2022/MACS 37000 Thinking with Deep Learning for Complex Social & Cultural Data Analysis/Memes/memes/13427874.jpg\n",
            "Processing i: 200 /content/drive/MyDrive/UChicago/Spring 2022/MACS 37000 Thinking with Deep Learning for Complex Social & Cultural Data Analysis/Memes/inspirational/968.jpg\n",
            "Processing i: 300 /content/drive/MyDrive/UChicago/Spring 2022/MACS 37000 Thinking with Deep Learning for Complex Social & Cultural Data Analysis/Memes/memes/12950995.jpg\n",
            "Processing i: 400 /content/drive/MyDrive/UChicago/Spring 2022/MACS 37000 Thinking with Deep Learning for Complex Social & Cultural Data Analysis/Memes/inspirational/704.jpg\n"
          ]
        }
      ]
    },
    {
      "cell_type": "code",
      "source": [
        "train_np_imgs = np.array(train_imgs)\n",
        "train_np_imgs.shape"
      ],
      "metadata": {
        "colab": {
          "base_uri": "https://localhost:8080/"
        },
        "id": "cbArT2yDvNMn",
        "outputId": "2ce30f09-67bf-4068-be69-4d412727e0dc"
      },
      "execution_count": 81,
      "outputs": [
        {
          "output_type": "execute_result",
          "data": {
            "text/plain": [
              "(1646, 115, 75, 3)"
            ]
          },
          "metadata": {},
          "execution_count": 81
        }
      ]
    },
    {
      "cell_type": "code",
      "source": [
        "test_np_imgs = np.array(test_imgs)\n",
        "test_np_imgs.shape"
      ],
      "metadata": {
        "colab": {
          "base_uri": "https://localhost:8080/"
        },
        "id": "--cox8MU8wZS",
        "outputId": "c730d63d-ec21-40c8-e9a8-d59cdbb62351"
      },
      "execution_count": 82,
      "outputs": [
        {
          "output_type": "execute_result",
          "data": {
            "text/plain": [
              "(427, 115, 75, 3)"
            ]
          },
          "metadata": {},
          "execution_count": 82
        }
      ]
    },
    {
      "cell_type": "markdown",
      "source": [
        "# Text to Vectors"
      ],
      "metadata": {
        "id": "cYqb_mX07N6Z"
      }
    },
    {
      "cell_type": "code",
      "source": [
        "#text cleaning\n",
        "stop = stopwords.words('english')\n",
        "lemmatizer = WordNetLemmatizer()\n",
        "\n",
        "def clean_text(text):\n",
        "  text = text.translate(str.maketrans('', '', punctuation))\n",
        "  text = text.lower().strip()\n",
        "  text = ' '.join([i if i not in stop and i.isalpha() else '' for i in text.lower().split()])\n",
        "  text = ' '.join([lemmatizer.lemmatize(w) for w in word_tokenize(text)])\n",
        "  text = re.sub(r\"\\s{2,}\", \" \", text)\n",
        "  return text\n",
        "\n",
        "train['text'] = train['text'].astype(str)\n",
        "train['text'] = train['text'].apply(lambda text: clean_text(text))\n",
        "\n",
        "test['text'] = test['text'].astype(str)\n",
        "test['text'] = test['text'].apply(lambda text: clean_text(text))\n",
        "\n"
      ],
      "metadata": {
        "id": "OhEXpzgmvNKB"
      },
      "execution_count": 60,
      "outputs": []
    },
    {
      "cell_type": "code",
      "source": [
        "#keras \n",
        "from keras.preprocessing.text import Tokenizer\n",
        "from keras.preprocessing.sequence import pad_sequences\n",
        "from keras.models import Model, load_model\n",
        "from keras.layers import Embedding, LSTM, Dropout, Dense, Input, Bidirectional, Flatten, Conv2D, MaxPooling2D, concatenate, Conv1D, MaxPooling1D\n",
        "import keras.backend as K\n",
        "from tensorflow.keras.optimizers import Adam, RMSprop\n",
        "from keras.callbacks import ModelCheckpoint, CSVLogger, EarlyStopping"
      ],
      "metadata": {
        "id": "hAtjaRn0vNHu"
      },
      "execution_count": 32,
      "outputs": []
    },
    {
      "cell_type": "code",
      "source": [
        "#Fitting the Keras Tokenizer on the entire dataset\n",
        "MAX_NB_WORDS = 50000\n",
        "MAX_SEQUENCE_LENGTH = meme['text'].map(len).max()\n",
        "EMBEDDING_DIM = 300\n",
        "tokenizer = Tokenizer(num_words=MAX_NB_WORDS, lower=True)\n",
        "tokenizer.fit_on_texts(meme['text'].values)\n",
        "word_index = tokenizer.word_index\n",
        "print('Found %s unique tokens.' % len(word_index))\n",
        "print('Max len:', MAX_SEQUENCE_LENGTH)"
      ],
      "metadata": {
        "colab": {
          "base_uri": "https://localhost:8080/"
        },
        "id": "KBjlZaAovNFo",
        "outputId": "009f9b72-7ae2-4a0c-aaa8-673f82ef83d3"
      },
      "execution_count": 61,
      "outputs": [
        {
          "output_type": "stream",
          "name": "stdout",
          "text": [
            "Found 3881 unique tokens.\n",
            "Max len: 267\n"
          ]
        }
      ]
    },
    {
      "cell_type": "code",
      "source": [
        "# pretrained google news dataset\n",
        "import gensim.downloader as api\n",
        "wv = api.load('word2vec-google-news-300')"
      ],
      "metadata": {
        "colab": {
          "base_uri": "https://localhost:8080/"
        },
        "id": "vacjLgmA36WC",
        "outputId": "9b8d0a83-5883-4bba-bd7a-d42fa7a66896"
      },
      "execution_count": 34,
      "outputs": [
        {
          "output_type": "stream",
          "name": "stdout",
          "text": [
            "[==================================================] 100.0% 1662.8/1662.8MB downloaded\n"
          ]
        }
      ]
    },
    {
      "cell_type": "code",
      "source": [
        "#This function loads the word2vec model and intializes the embedding matrix. Each word which is present in the embedding is then added as a vector to the embedding matrix.\n",
        "def get_embedding_matrix(typeToLoad):\n",
        "  if typeToLoad == \"glove\":\n",
        "    EMBEDDING_FILE=\"/content/glove.twitter.27B.100d.txt\"\n",
        "    embed_size = 100\n",
        "  elif typeToLoad == \"word2vec\":\n",
        "    #word2vecDict = KeyedVectors.load_word2vec_format(\"/content/GoogleNews-vectors-negative300.bin\", binary=True)\n",
        "    word2vecDict = wv\n",
        "    embed_size = 300\n",
        "  elif typeToLoad == \"fasttext\":\n",
        "    EMBEDDING_FILE=\"/content/wiki-news-300d-1M.vec\"\n",
        "    embed_size = 300\n",
        "\n",
        "  if typeToLoad == \"glove\" or typeToLoad == \"fasttext\":\n",
        "    embeddings_index = dict()\n",
        "    f = open(EMBEDDING_FILE)\n",
        "    for line in f:\n",
        "      values = line.split()\n",
        "      word = values[0]\n",
        "      coefs = np.asarray(values[1:], dtype='float32')\n",
        "      embeddings_index[word] = coefs\n",
        "    f.close()\n",
        "    print(\"Loaded \" + str(len(embeddings_index)) + \" word vectors.\")\n",
        "  else:\n",
        "    embeddings_index = dict()\n",
        "    for word in word2vecDict.wv.vocab:\n",
        "      embeddings_index[word] = word2vecDict.word_vec(word)\n",
        "    print(\"Loaded \" + str(len(embeddings_index)) + \" word vectors.\")\n",
        "        \n",
        "  embedding_matrix = 1 * np.random.randn(len(word_index)+1, embed_size)\n",
        "\n",
        "  embeddedCount = 0\n",
        "  for word, i in word_index.items():\n",
        "    i-=1\n",
        "    embedding_vector = embeddings_index.get(word)\n",
        "    if embedding_vector is not None: \n",
        "      embedding_matrix[i] = embedding_vector\n",
        "      embeddedCount+=1\n",
        "  print(\"total embedded:\", embeddedCount, \"common words\")\n",
        "        \n",
        "  del(embeddings_index)\n",
        "        \n",
        "  return embedding_matrix"
      ],
      "metadata": {
        "id": "-25ig6X836RQ"
      },
      "execution_count": 62,
      "outputs": []
    },
    {
      "cell_type": "code",
      "source": [
        "word2vec_embedding_matrix = get_embedding_matrix(\"word2vec\")"
      ],
      "metadata": {
        "colab": {
          "base_uri": "https://localhost:8080/"
        },
        "id": "iYGqN0x-36KO",
        "outputId": "a405bacb-36b6-449b-f3f0-4eb252f7c747"
      },
      "execution_count": 63,
      "outputs": [
        {
          "output_type": "stream",
          "name": "stderr",
          "text": [
            "/usr/local/lib/python3.7/dist-packages/ipykernel_launcher.py:26: DeprecationWarning: Call to deprecated `wv` (Attribute will be removed in 4.0.0, use self instead).\n"
          ]
        },
        {
          "output_type": "stream",
          "name": "stdout",
          "text": [
            "Loaded 3000000 word vectors.\n",
            "total embedded: 3036 common words\n"
          ]
        }
      ]
    },
    {
      "cell_type": "code",
      "source": [
        "X_text_train = tokenizer.texts_to_sequences(train['text'].values)\n",
        "X_text_train = pad_sequences(X_text_train, maxlen=MAX_SEQUENCE_LENGTH)\n",
        "print('Shape of train tensor:', X_text_train.shape)"
      ],
      "metadata": {
        "colab": {
          "base_uri": "https://localhost:8080/"
        },
        "id": "HKiF6xqc36Fc",
        "outputId": "5ebc7056-862e-4810-92f6-4896a44523cf"
      },
      "execution_count": 83,
      "outputs": [
        {
          "output_type": "stream",
          "name": "stdout",
          "text": [
            "Shape of train tensor: (1646, 267)\n"
          ]
        }
      ]
    },
    {
      "cell_type": "code",
      "source": [
        "X_text_test = tokenizer.texts_to_sequences(test['text'].values)\n",
        "X_text_test = pad_sequences(X_text_test, maxlen=MAX_SEQUENCE_LENGTH)\n",
        "print('Shape of train tensor:', X_text_test.shape)"
      ],
      "metadata": {
        "colab": {
          "base_uri": "https://localhost:8080/"
        },
        "id": "CO5hoJj636CH",
        "outputId": "433113c1-b74b-4447-f846-af1afd28198b"
      },
      "execution_count": 84,
      "outputs": [
        {
          "output_type": "stream",
          "name": "stdout",
          "text": [
            "Shape of train tensor: (427, 267)\n"
          ]
        }
      ]
    },
    {
      "cell_type": "code",
      "source": [
        "X_img_train = train_np_imgs\n",
        "X_img_train.shape\n",
        "\n",
        "X_img_test = test_np_imgs\n",
        "X_img_test.shape\n"
      ],
      "metadata": {
        "colab": {
          "base_uri": "https://localhost:8080/"
        },
        "id": "rfSD_BAX66Nm",
        "outputId": "1eca5734-8c0a-42ac-bccb-ffda8865d3f4"
      },
      "execution_count": 85,
      "outputs": [
        {
          "output_type": "execute_result",
          "data": {
            "text/plain": [
              "(427, 115, 75, 3)"
            ]
          },
          "metadata": {},
          "execution_count": 85
        }
      ]
    },
    {
      "cell_type": "code",
      "source": [
        "train_labels = train['meme']\n",
        "train_labels.shape\n",
        "\n",
        "test_labels = test['meme']\n",
        "test_labels.shape"
      ],
      "metadata": {
        "colab": {
          "base_uri": "https://localhost:8080/"
        },
        "id": "8BgwwJZu66KF",
        "outputId": "e27baa54-e915-4c18-8bb0-f598e5605203"
      },
      "execution_count": 86,
      "outputs": [
        {
          "output_type": "execute_result",
          "data": {
            "text/plain": [
              "(427,)"
            ]
          },
          "metadata": {},
          "execution_count": 86
        }
      ]
    },
    {
      "cell_type": "code",
      "source": [
        "X_img_train.shape"
      ],
      "metadata": {
        "colab": {
          "base_uri": "https://localhost:8080/"
        },
        "id": "KfQaVcBj8h4f",
        "outputId": "959ae7b9-145f-48a5-9051-6e996228e78f"
      },
      "execution_count": 87,
      "outputs": [
        {
          "output_type": "execute_result",
          "data": {
            "text/plain": [
              "(1646, 115, 75, 3)"
            ]
          },
          "metadata": {},
          "execution_count": 87
        }
      ]
    },
    {
      "cell_type": "code",
      "source": [
        "X_text_train.shape"
      ],
      "metadata": {
        "colab": {
          "base_uri": "https://localhost:8080/"
        },
        "id": "BkJz7bt08nRW",
        "outputId": "a3b7a366-cdc6-4c1b-f567-b362b3e94c46"
      },
      "execution_count": 88,
      "outputs": [
        {
          "output_type": "execute_result",
          "data": {
            "text/plain": [
              "(1646, 267)"
            ]
          },
          "metadata": {},
          "execution_count": 88
        }
      ]
    },
    {
      "cell_type": "code",
      "source": [
        "train_labels.shape"
      ],
      "metadata": {
        "colab": {
          "base_uri": "https://localhost:8080/"
        },
        "id": "eh8tKuft8p90",
        "outputId": "74c61ea6-9937-4d5a-fef1-06229c8ddcbe"
      },
      "execution_count": 89,
      "outputs": [
        {
          "output_type": "execute_result",
          "data": {
            "text/plain": [
              "(1646,)"
            ]
          },
          "metadata": {},
          "execution_count": 89
        }
      ]
    },
    {
      "cell_type": "markdown",
      "source": [
        "# Multimodel Deep Learning"
      ],
      "metadata": {
        "id": "bke2HsQs7U04"
      }
    },
    {
      "cell_type": "code",
      "source": [
        "#The model architecture consists of an LSTM and a CNN. The LSTM takes the input as a padded sequence of the overview of a movie. The CNN takes a movie poster as the input. Each model has a fully connected layer whose output is concatenated and fed forward to a final fully connected layer with 18 output units. The output layer has a sigmoid activation function.\n",
        "#Binary crossentropy was the chosen loss function and the Adam optimizer was used.\n",
        "def compile_model(embedding_matrix):\n",
        "  lstm_input = Input(shape=(MAX_SEQUENCE_LENGTH,))\n",
        "  x = Embedding(embedding_matrix.shape[0], embedding_matrix.shape[1], mask_zero=True, input_length=MAX_SEQUENCE_LENGTH, trainable=False)(lstm_input)\n",
        "  x = Dropout(0.3)(x)\n",
        "  x = LSTM(64, return_sequences = True)(x)\n",
        "  x = Dropout(0.3)(x)\n",
        "  x = LSTM(64)(x)\n",
        "  x = Dropout(0.3)(x)\n",
        "  lstm_out = Dense(32, activation = 'relu')(x)\n",
        "\n",
        "  print(X_img_train.shape[1], X_img_train.shape[2], X_img_train.shape[3])\n",
        "  cnn_input = Input(shape=(X_img_train.shape[1], X_img_train.shape[2], X_img_train.shape[3]))\n",
        "  y = Conv2D(32, (3, 3), activation='relu', input_shape=(X_img_train.shape[1], X_img_train.shape[2], X_img_train.shape[3]))(cnn_input)\n",
        "  y = MaxPooling2D(2, 2)(y)\n",
        "  y = Conv2D(64, (3, 3), activation='relu')(y)\n",
        "  y = MaxPooling2D(2, 2)(y)\n",
        "  y = Conv2D(128, (3, 3), activation='relu')(y)\n",
        "  y = MaxPooling2D(2, 2)(y)\n",
        "  y = Conv2D(128, (3, 3), activation='relu')(y)\n",
        "  y = MaxPooling2D(2, 2)(y)\n",
        "  y = Flatten()(y)\n",
        "  y = Dropout(0.3)(y)\n",
        "  cnn_out = Dense(512, activation='relu')(y)\n",
        "\n",
        "  concat_inp = concatenate([cnn_out, lstm_out])\n",
        "  z = Dense(256, activation='relu')(concat_inp)\n",
        "  z = Dropout(0.3)(z)\n",
        "  z = Dense(128, activation='relu')(z)\n",
        "  z = Dropout(0.3)(z)\n",
        "  output = Dense(1, activation='sigmoid')(z)\n",
        "\n",
        "  model = Model(inputs=[cnn_input, lstm_input], outputs=[output])\n",
        "  adam = Adam(lr=0.001, decay=1e-5)\n",
        "  \n",
        "  model.compile(loss='binary_crossentropy', optimizer=adam, metrics=['accuracy'])\n",
        "  return model"
      ],
      "metadata": {
        "id": "hOJofkDg66He"
      },
      "execution_count": 90,
      "outputs": []
    },
    {
      "cell_type": "code",
      "source": [
        "word2vec_model = compile_model(word2vec_embedding_matrix)\n",
        "word2vec_model.summary()"
      ],
      "metadata": {
        "colab": {
          "base_uri": "https://localhost:8080/"
        },
        "id": "jgp2QzE666E_",
        "outputId": "81a24910-6213-4a3a-d4cd-6d2d81ad0c46"
      },
      "execution_count": 91,
      "outputs": [
        {
          "output_type": "stream",
          "name": "stdout",
          "text": [
            "115 75 3\n",
            "Model: \"model_1\"\n",
            "__________________________________________________________________________________________________\n",
            " Layer (type)                   Output Shape         Param #     Connected to                     \n",
            "==================================================================================================\n",
            " input_4 (InputLayer)           [(None, 115, 75, 3)  0           []                               \n",
            "                                ]                                                                 \n",
            "                                                                                                  \n",
            " conv2d_4 (Conv2D)              (None, 113, 73, 32)  896         ['input_4[0][0]']                \n",
            "                                                                                                  \n",
            " max_pooling2d_4 (MaxPooling2D)  (None, 56, 36, 32)  0           ['conv2d_4[0][0]']               \n",
            "                                                                                                  \n",
            " conv2d_5 (Conv2D)              (None, 54, 34, 64)   18496       ['max_pooling2d_4[0][0]']        \n",
            "                                                                                                  \n",
            " max_pooling2d_5 (MaxPooling2D)  (None, 27, 17, 64)  0           ['conv2d_5[0][0]']               \n",
            "                                                                                                  \n",
            " input_3 (InputLayer)           [(None, 267)]        0           []                               \n",
            "                                                                                                  \n",
            " conv2d_6 (Conv2D)              (None, 25, 15, 128)  73856       ['max_pooling2d_5[0][0]']        \n",
            "                                                                                                  \n",
            " embedding_1 (Embedding)        (None, 267, 300)     1164600     ['input_3[0][0]']                \n",
            "                                                                                                  \n",
            " max_pooling2d_6 (MaxPooling2D)  (None, 12, 7, 128)  0           ['conv2d_6[0][0]']               \n",
            "                                                                                                  \n",
            " dropout_6 (Dropout)            (None, 267, 300)     0           ['embedding_1[0][0]']            \n",
            "                                                                                                  \n",
            " conv2d_7 (Conv2D)              (None, 10, 5, 128)   147584      ['max_pooling2d_6[0][0]']        \n",
            "                                                                                                  \n",
            " lstm_2 (LSTM)                  (None, 267, 64)      93440       ['dropout_6[0][0]']              \n",
            "                                                                                                  \n",
            " max_pooling2d_7 (MaxPooling2D)  (None, 5, 2, 128)   0           ['conv2d_7[0][0]']               \n",
            "                                                                                                  \n",
            " dropout_7 (Dropout)            (None, 267, 64)      0           ['lstm_2[0][0]']                 \n",
            "                                                                                                  \n",
            " flatten_1 (Flatten)            (None, 1280)         0           ['max_pooling2d_7[0][0]']        \n",
            "                                                                                                  \n",
            " lstm_3 (LSTM)                  (None, 64)           33024       ['dropout_7[0][0]']              \n",
            "                                                                                                  \n",
            " dropout_9 (Dropout)            (None, 1280)         0           ['flatten_1[0][0]']              \n",
            "                                                                                                  \n",
            " dropout_8 (Dropout)            (None, 64)           0           ['lstm_3[0][0]']                 \n",
            "                                                                                                  \n",
            " dense_6 (Dense)                (None, 512)          655872      ['dropout_9[0][0]']              \n",
            "                                                                                                  \n",
            " dense_5 (Dense)                (None, 32)           2080        ['dropout_8[0][0]']              \n",
            "                                                                                                  \n",
            " concatenate_1 (Concatenate)    (None, 544)          0           ['dense_6[0][0]',                \n",
            "                                                                  'dense_5[0][0]']                \n",
            "                                                                                                  \n",
            " dense_7 (Dense)                (None, 256)          139520      ['concatenate_1[0][0]']          \n",
            "                                                                                                  \n",
            " dropout_10 (Dropout)           (None, 256)          0           ['dense_7[0][0]']                \n",
            "                                                                                                  \n",
            " dense_8 (Dense)                (None, 128)          32896       ['dropout_10[0][0]']             \n",
            "                                                                                                  \n",
            " dropout_11 (Dropout)           (None, 128)          0           ['dense_8[0][0]']                \n",
            "                                                                                                  \n",
            " dense_9 (Dense)                (None, 1)            129         ['dropout_11[0][0]']             \n",
            "                                                                                                  \n",
            "==================================================================================================\n",
            "Total params: 2,362,393\n",
            "Trainable params: 1,197,793\n",
            "Non-trainable params: 1,164,600\n",
            "__________________________________________________________________________________________________\n"
          ]
        },
        {
          "output_type": "stream",
          "name": "stderr",
          "text": [
            "/usr/local/lib/python3.7/dist-packages/keras/optimizer_v2/adam.py:105: UserWarning: The `lr` argument is deprecated, use `learning_rate` instead.\n",
            "  super(Adam, self).__init__(name, **kwargs)\n"
          ]
        }
      ]
    },
    {
      "cell_type": "code",
      "source": [
        "es = EarlyStopping(patience=5)\n",
        "csv_logger = CSVLogger('model_history_log_model_lstm.csv', append=True)\n",
        "check_point = ModelCheckpoint(filepath='best_lstm_model_todate', save_best_only=True, save_weights_only=True)"
      ],
      "metadata": {
        "id": "nJ-86YVc677i"
      },
      "execution_count": 43,
      "outputs": []
    },
    {
      "cell_type": "code",
      "source": [
        "train_labels = np.asarray(train_labels).astype('float32').reshape((-1,1))\n",
        "train_labels.shape\n",
        "\n",
        "test_labels = np.asarray(test_labels).astype('float32').reshape((-1,1))\n",
        "test_labels.shape"
      ],
      "metadata": {
        "colab": {
          "base_uri": "https://localhost:8080/"
        },
        "id": "Eq2_ewEV67x7",
        "outputId": "f6c73203-64da-4023-d67e-951a5ae5388b"
      },
      "execution_count": 44,
      "outputs": [
        {
          "output_type": "execute_result",
          "data": {
            "text/plain": [
              "(443, 1)"
            ]
          },
          "metadata": {},
          "execution_count": 44
        }
      ]
    },
    {
      "cell_type": "code",
      "source": [
        "word2vec_multi_modal_model = word2vec_model.fit([X_img_train, X_text_train], train_labels, batch_size=100, epochs=20,\n",
        "                            validation_data=([X_img_test, X_text_test], test_labels), callbacks = [es, csv_logger, check_point])"
      ],
      "metadata": {
        "colab": {
          "base_uri": "https://localhost:8080/"
        },
        "id": "g2epXBi767ub",
        "outputId": "4d8791d9-e7ed-45ee-f5d7-68ec047a40eb"
      },
      "execution_count": 92,
      "outputs": [
        {
          "output_type": "stream",
          "name": "stdout",
          "text": [
            "Epoch 1/20\n",
            "17/17 [==============================] - 58s 3s/step - loss: 0.4271 - accuracy: 0.7776 - val_loss: 0.1426 - val_accuracy: 0.9532\n",
            "Epoch 2/20\n",
            "17/17 [==============================] - 44s 3s/step - loss: 0.1336 - accuracy: 0.9550 - val_loss: 0.0715 - val_accuracy: 0.9719\n",
            "Epoch 3/20\n",
            "17/17 [==============================] - 44s 3s/step - loss: 0.0710 - accuracy: 0.9793 - val_loss: 0.0264 - val_accuracy: 0.9906\n",
            "Epoch 4/20\n",
            "17/17 [==============================] - 47s 3s/step - loss: 0.0442 - accuracy: 0.9860 - val_loss: 0.0132 - val_accuracy: 0.9977\n",
            "Epoch 5/20\n",
            "17/17 [==============================] - 44s 3s/step - loss: 0.0334 - accuracy: 0.9927 - val_loss: 0.0186 - val_accuracy: 0.9930\n",
            "Epoch 6/20\n",
            "17/17 [==============================] - 44s 3s/step - loss: 0.0295 - accuracy: 0.9927 - val_loss: 0.0167 - val_accuracy: 0.9953\n",
            "Epoch 7/20\n",
            "17/17 [==============================] - 44s 3s/step - loss: 0.0103 - accuracy: 0.9982 - val_loss: 0.0070 - val_accuracy: 0.9977\n",
            "Epoch 8/20\n",
            "17/17 [==============================] - 44s 3s/step - loss: 0.0076 - accuracy: 0.9976 - val_loss: 0.0068 - val_accuracy: 0.9953\n",
            "Epoch 9/20\n",
            "17/17 [==============================] - 44s 3s/step - loss: 0.0013 - accuracy: 0.9994 - val_loss: 0.0021 - val_accuracy: 0.9977\n",
            "Epoch 10/20\n",
            "17/17 [==============================] - 44s 3s/step - loss: 3.6240e-04 - accuracy: 1.0000 - val_loss: 0.0113 - val_accuracy: 0.9953\n",
            "Epoch 11/20\n",
            "17/17 [==============================] - 44s 3s/step - loss: 9.2801e-04 - accuracy: 0.9994 - val_loss: 0.0106 - val_accuracy: 0.9953\n",
            "Epoch 12/20\n",
            "17/17 [==============================] - 44s 3s/step - loss: 2.9950e-04 - accuracy: 1.0000 - val_loss: 0.0058 - val_accuracy: 0.9977\n",
            "Epoch 13/20\n",
            "17/17 [==============================] - 44s 3s/step - loss: 0.0010 - accuracy: 0.9994 - val_loss: 0.0099 - val_accuracy: 0.9977\n",
            "Epoch 14/20\n",
            "17/17 [==============================] - 43s 3s/step - loss: 0.0023 - accuracy: 0.9988 - val_loss: 0.0063 - val_accuracy: 0.9953\n"
          ]
        }
      ]
    },
    {
      "cell_type": "code",
      "source": [
        "def plot_loss(history):\n",
        "  plt.title('Loss')\n",
        "  plt.plot(history.history['loss'], label='train')\n",
        "  plt.plot(history.history['val_loss'], label='test')\n",
        "  plt.legend(['training loss', 'validation loss'], loc='upper right')\n",
        "  plt.show()\n",
        "\n",
        "def plot_acc(history):\n",
        "  plt.title('Accuracy')\n",
        "  plt.plot(history.history['accuracy'], label='train')\n",
        "  plt.plot(history.history['val_accuracy'], label='test')\n",
        "  plt.legend(['training accuracy', 'validation accuracy'], loc='lower right')\n",
        "  plt.show()"
      ],
      "metadata": {
        "id": "7P57ciJn67sB"
      },
      "execution_count": 93,
      "outputs": []
    },
    {
      "cell_type": "code",
      "source": [
        "plot_acc(word2vec_multi_modal_model)"
      ],
      "metadata": {
        "colab": {
          "base_uri": "https://localhost:8080/",
          "height": 281
        },
        "id": "H-D6hbQN7JBD",
        "outputId": "e79e6ccf-4820-4e2b-ec1b-89534d1e7c9f"
      },
      "execution_count": 94,
      "outputs": [
        {
          "output_type": "display_data",
          "data": {
            "text/plain": [
              "<Figure size 432x288 with 1 Axes>"
            ],
            "image/png": "[encoded data removed]"
          },
          "metadata": {
            "needs_background": "light"
          }
        }
      ]
    },
    {
      "cell_type": "code",
      "source": [
        "plot_loss(word2vec_multi_modal_model)"
      ],
      "metadata": {
        "colab": {
          "base_uri": "https://localhost:8080/",
          "height": 281
        },
        "id": "mWtotBW-7I9g",
        "outputId": "e716c63a-87e8-4d06-c5a7-cd042f41ed64"
      },
      "execution_count": 95,
      "outputs": [
        {
          "output_type": "display_data",
          "data": {
            "text/plain": [
              "<Figure size 432x288 with 1 Axes>"
            ],
            "image/png": "[encoded data removed]"
          },
          "metadata": {
            "needs_background": "light"
          }
        }
      ]
    },
    {
      "cell_type": "markdown",
      "source": [
        ""
      ],
      "metadata": {
        "id": "xSd8B5Iwaimt"
      }
    },
    {
      "cell_type": "markdown",
      "source": [
        "# Multimodel Deep Learning: Shallow"
      ],
      "metadata": {
        "id": "r6qwWawxaqIB"
      }
    },
    {
      "cell_type": "code",
      "source": [
        "#The model architecture consists of an LSTM and a CNN. The LSTM takes the input as a padded sequence of the overview of a movie. The CNN takes a movie poster as the input. Each model has a fully connected layer whose output is concatenated and fed forward to a final fully connected layer with 18 output units. The output layer has a sigmoid activation function.\n",
        "#Binary crossentropy was the chosen loss function and the Adam optimizer was used.\n",
        "def shallow_compile_model(embedding_matrix):\n",
        "  lstm_input = Input(shape=(MAX_SEQUENCE_LENGTH,))\n",
        "  x = Embedding(embedding_matrix.shape[0], embedding_matrix.shape[1], mask_zero=True, input_length=MAX_SEQUENCE_LENGTH, trainable=False)(lstm_input)\n",
        "  x = Dropout(0.3)(x)\n",
        "  x = LSTM(64, return_sequences = True)(x)\n",
        "  x = Dropout(0.3)(x)\n",
        "  x = LSTM(64)(x)\n",
        "  x = Dropout(0.3)(x)\n",
        "  lstm_out = Dense(32, activation = 'relu')(x)\n",
        "\n",
        "  print(X_img_train.shape[1], X_img_train.shape[2], X_img_train.shape[3])\n",
        "  cnn_input = Input(shape=(X_img_train.shape[1], X_img_train.shape[2], X_img_train.shape[3]))\n",
        "  y = Conv2D(32, (3, 3), activation='relu', input_shape=(X_img_train.shape[1], X_img_train.shape[2], X_img_train.shape[3]))(cnn_input)\n",
        "  y = MaxPooling2D(2, 2)(y)\n",
        "  #y = Conv2D(64, (3, 3), activation='relu')(y)\n",
        "  #y = MaxPooling2D(2, 2)(y)\n",
        "  #y = Conv2D(128, (3, 3), activation='relu')(y)\n",
        "  #y = MaxPooling2D(2, 2)(y)\n",
        "  #y = Conv2D(128, (3, 3), activation='relu')(y)\n",
        "  #y = MaxPooling2D(2, 2)(y)\n",
        "  y = Flatten()(y)\n",
        "  y = Dropout(0.3)(y)\n",
        "  cnn_out = Dense(512, activation='relu')(y)\n",
        "\n",
        "  concat_inp = concatenate([cnn_out, lstm_out])\n",
        "  z = Dense(256, activation='relu')(concat_inp)\n",
        "  z = Dropout(0.3)(z)\n",
        "  z = Dense(128, activation='relu')(z)\n",
        "  z = Dropout(0.3)(z)\n",
        "  output = Dense(1, activation='sigmoid')(z)\n",
        "\n",
        "  model = Model(inputs=[cnn_input, lstm_input], outputs=[output])\n",
        "  adam = Adam(lr=0.001, decay=1e-5)\n",
        "  \n",
        "  model.compile(loss='binary_crossentropy', optimizer=adam, metrics=['accuracy'])\n",
        "  return model"
      ],
      "metadata": {
        "id": "AVZqOJW_bOoy"
      },
      "execution_count": 117,
      "outputs": []
    },
    {
      "cell_type": "code",
      "source": [
        "word2vec_model = shallow_compile_model(word2vec_embedding_matrix)\n",
        "word2vec_model.summary()"
      ],
      "metadata": {
        "colab": {
          "base_uri": "https://localhost:8080/"
        },
        "id": "Hb6qy4d1bPc_",
        "outputId": "66414469-9275-4fee-eb38-46650a09cdc3"
      },
      "execution_count": 118,
      "outputs": [
        {
          "output_type": "stream",
          "name": "stdout",
          "text": [
            "115 75 3\n",
            "Model: \"model_6\"\n",
            "__________________________________________________________________________________________________\n",
            " Layer (type)                   Output Shape         Param #     Connected to                     \n",
            "==================================================================================================\n",
            " input_27 (InputLayer)          [(None, 267)]        0           []                               \n",
            "                                                                                                  \n",
            " embedding_13 (Embedding)       (None, 267, 300)     1164600     ['input_27[0][0]']               \n",
            "                                                                                                  \n",
            " input_28 (InputLayer)          [(None, 115, 75, 3)  0           []                               \n",
            "                                ]                                                                 \n",
            "                                                                                                  \n",
            " dropout_56 (Dropout)           (None, 267, 300)     0           ['embedding_13[0][0]']           \n",
            "                                                                                                  \n",
            " conv2d_39 (Conv2D)             (None, 113, 73, 32)  896         ['input_28[0][0]']               \n",
            "                                                                                                  \n",
            " lstm_19 (LSTM)                 (None, 267, 64)      93440       ['dropout_56[0][0]']             \n",
            "                                                                                                  \n",
            " max_pooling2d_39 (MaxPooling2D  (None, 56, 36, 32)  0           ['conv2d_39[0][0]']              \n",
            " )                                                                                                \n",
            "                                                                                                  \n",
            " dropout_57 (Dropout)           (None, 267, 64)      0           ['lstm_19[0][0]']                \n",
            "                                                                                                  \n",
            " flatten_13 (Flatten)           (None, 64512)        0           ['max_pooling2d_39[0][0]']       \n",
            "                                                                                                  \n",
            " lstm_20 (LSTM)                 (None, 64)           33024       ['dropout_57[0][0]']             \n",
            "                                                                                                  \n",
            " dropout_59 (Dropout)           (None, 64512)        0           ['flatten_13[0][0]']             \n",
            "                                                                                                  \n",
            " dropout_58 (Dropout)           (None, 64)           0           ['lstm_20[0][0]']                \n",
            "                                                                                                  \n",
            " dense_45 (Dense)               (None, 512)          33030656    ['dropout_59[0][0]']             \n",
            "                                                                                                  \n",
            " dense_44 (Dense)               (None, 32)           2080        ['dropout_58[0][0]']             \n",
            "                                                                                                  \n",
            " concatenate_13 (Concatenate)   (None, 544)          0           ['dense_45[0][0]',               \n",
            "                                                                  'dense_44[0][0]']               \n",
            "                                                                                                  \n",
            " dense_46 (Dense)               (None, 256)          139520      ['concatenate_13[0][0]']         \n",
            "                                                                                                  \n",
            " dropout_60 (Dropout)           (None, 256)          0           ['dense_46[0][0]']               \n",
            "                                                                                                  \n",
            " dense_47 (Dense)               (None, 128)          32896       ['dropout_60[0][0]']             \n",
            "                                                                                                  \n",
            " dropout_61 (Dropout)           (None, 128)          0           ['dense_47[0][0]']               \n",
            "                                                                                                  \n",
            " dense_48 (Dense)               (None, 1)            129         ['dropout_61[0][0]']             \n",
            "                                                                                                  \n",
            "==================================================================================================\n",
            "Total params: 34,497,241\n",
            "Trainable params: 33,332,641\n",
            "Non-trainable params: 1,164,600\n",
            "__________________________________________________________________________________________________\n"
          ]
        },
        {
          "output_type": "stream",
          "name": "stderr",
          "text": [
            "/usr/local/lib/python3.7/dist-packages/keras/optimizer_v2/adam.py:105: UserWarning: The `lr` argument is deprecated, use `learning_rate` instead.\n",
            "  super(Adam, self).__init__(name, **kwargs)\n"
          ]
        }
      ]
    },
    {
      "cell_type": "code",
      "source": [
        "word2vec_multi_modal_model = word2vec_model.fit([X_img_train, X_text_train], train_labels, batch_size=100, epochs=20,\n",
        "                            validation_data=([X_img_test, X_text_test], test_labels), callbacks = [es, csv_logger, check_point])"
      ],
      "metadata": {
        "colab": {
          "base_uri": "https://localhost:8080/"
        },
        "id": "kjjAwklibPV0",
        "outputId": "eb931378-7944-4344-db3d-4f7c727c9cdf"
      },
      "execution_count": 119,
      "outputs": [
        {
          "output_type": "stream",
          "name": "stdout",
          "text": [
            "Epoch 1/20\n",
            "17/17 [==============================] - 48s 2s/step - loss: 1.0820 - accuracy: 0.7272 - val_loss: 0.0695 - val_accuracy: 0.9859\n",
            "Epoch 2/20\n",
            "17/17 [==============================] - 34s 2s/step - loss: 0.1017 - accuracy: 0.9684 - val_loss: 0.0267 - val_accuracy: 0.9906\n",
            "Epoch 3/20\n",
            "17/17 [==============================] - 35s 2s/step - loss: 0.0380 - accuracy: 0.9897 - val_loss: 0.0064 - val_accuracy: 1.0000\n",
            "Epoch 4/20\n",
            "17/17 [==============================] - 33s 2s/step - loss: 0.0105 - accuracy: 0.9976 - val_loss: 0.0030 - val_accuracy: 1.0000\n",
            "Epoch 5/20\n",
            "17/17 [==============================] - 37s 2s/step - loss: 0.0049 - accuracy: 0.9988 - val_loss: 0.0019 - val_accuracy: 1.0000\n",
            "Epoch 6/20\n",
            "17/17 [==============================] - 39s 2s/step - loss: 0.0042 - accuracy: 0.9988 - val_loss: 0.0246 - val_accuracy: 0.9930\n",
            "Epoch 7/20\n",
            "17/17 [==============================] - 34s 2s/step - loss: 0.0077 - accuracy: 0.9957 - val_loss: 0.0153 - val_accuracy: 0.9953\n",
            "Epoch 8/20\n",
            "17/17 [==============================] - 34s 2s/step - loss: 0.0032 - accuracy: 0.9988 - val_loss: 0.0049 - val_accuracy: 0.9977\n",
            "Epoch 9/20\n",
            "17/17 [==============================] - 34s 2s/step - loss: 5.5333e-04 - accuracy: 1.0000 - val_loss: 0.0041 - val_accuracy: 0.9977\n",
            "Epoch 10/20\n",
            "17/17 [==============================] - 34s 2s/step - loss: 1.1075e-04 - accuracy: 1.0000 - val_loss: 0.0062 - val_accuracy: 0.9977\n"
          ]
        }
      ]
    },
    {
      "cell_type": "code",
      "source": [
        "plot_acc(word2vec_multi_modal_model)"
      ],
      "metadata": {
        "colab": {
          "base_uri": "https://localhost:8080/",
          "height": 281
        },
        "id": "_L0QUnoVbPR9",
        "outputId": "d48d171f-f171-4e15-9801-9bc289569e09"
      },
      "execution_count": 120,
      "outputs": [
        {
          "output_type": "display_data",
          "data": {
            "text/plain": [
              "<Figure size 432x288 with 1 Axes>"
            ],
            "image/png": "[encoded data removed]"
          },
          "metadata": {
            "needs_background": "light"
          }
        }
      ]
    },
    {
      "cell_type": "code",
      "source": [
        "plot_loss(word2vec_multi_modal_model)"
      ],
      "metadata": {
        "colab": {
          "base_uri": "https://localhost:8080/",
          "height": 281
        },
        "id": "x-SI-3OebPOU",
        "outputId": "77d60336-a40c-49ed-8fc1-c059b0668a42"
      },
      "execution_count": 121,
      "outputs": [
        {
          "output_type": "display_data",
          "data": {
            "text/plain": [
              "<Figure size 432x288 with 1 Axes>"
            ],
            "image/png": "[encoded data removed]"
          },
          "metadata": {
            "needs_background": "light"
          }
        }
      ]
    },
    {
      "cell_type": "code",
      "source": [
        ""
      ],
      "metadata": {
        "id": "xOW69F_wbPKQ"
      },
      "execution_count": null,
      "outputs": []
    },
    {
      "cell_type": "code",
      "source": [
        ""
      ],
      "metadata": {
        "id": "VuO7sfg2bPGN"
      },
      "execution_count": null,
      "outputs": []
    },
    {
      "cell_type": "code",
      "source": [
        ""
      ],
      "metadata": {
        "id": "K5xzyG-gbPBY"
      },
      "execution_count": null,
      "outputs": []
    }
  ]
}